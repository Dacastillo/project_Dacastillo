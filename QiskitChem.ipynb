{
 "cells": [
  {
   "cell_type": "markdown",
   "id": "cd2a89ba",
   "metadata": {},
   "source": [
    "# Qiskit Quantum Chemistry"
   ]
  },
  {
   "cell_type": "code",
   "execution_count": 19,
   "id": "56106e7d",
   "metadata": {},
   "outputs": [],
   "source": [
    "from qiskit_nature.units import DistanceUnit\n",
    "from qiskit_nature.second_q.drivers import PySCFDriver\n",
    "\n",
    "driver = PySCFDriver(\n",
    "    atom=\"H 0 0 -0.9; Be 0 0 0; H 0 0 0.9\",\n",
    "    basis=\"sto3g\",\n",
    "    charge=0,\n",
    "    spin=0,\n",
    "    unit=DistanceUnit.ANGSTROM,\n",
    ")\n",
    "\n",
    "es_problem = driver.run()"
   ]
  },
  {
   "cell_type": "code",
   "execution_count": 20,
   "id": "99e36377",
   "metadata": {},
   "outputs": [],
   "source": [
    "from qiskit_nature.second_q.mappers import JordanWignerMapper, QubitConverter\n",
    "\n",
    "converter = QubitConverter(JordanWignerMapper())"
   ]
  },
  {
   "cell_type": "code",
   "execution_count": 21,
   "id": "25d5a673",
   "metadata": {},
   "outputs": [],
   "source": [
    "from qiskit.algorithms.minimum_eigensolvers import NumPyMinimumEigensolver\n",
    "\n",
    "numpy_solver = NumPyMinimumEigensolver()"
   ]
  },
  {
   "cell_type": "code",
   "execution_count": null,
   "id": "f33b591f",
   "metadata": {},
   "outputs": [],
   "source": [
    "from qiskit.algorithms.optimizers import SLSQP\n",
    "from qiskit.primitives import Estimator\n",
    "from qiskit_nature.second_q.algorithms import VQEUCCFactory\n",
    "from qiskit_nature.second_q.circuit.library import UCCSD\n",
    "\n",
    "vqe_solver = VQEUCCFactory(Estimator(), UCCSD(), SLSQP())"
   ]
  },
  {
   "cell_type": "code",
   "execution_count": null,
   "id": "078a8ad2",
   "metadata": {},
   "outputs": [],
   "source": [
    "from qiskit.algorithms.minimum_eigensolvers import VQE\n",
    "from qiskit.circuit.library import TwoLocal\n",
    "\n",
    "tl_circuit = TwoLocal(\n",
    "    rotation_blocks=[\"h\", \"rx\"],\n",
    "    entanglement_blocks=\"cz\",\n",
    "    entanglement=\"full\",\n",
    "    reps=2,\n",
    "    parameter_prefix=\"y\",\n",
    ")\n",
    "\n",
    "another_solver = VQE(Estimator(), tl_circuit, SLSQP())"
   ]
  },
  {
   "cell_type": "code",
   "execution_count": null,
   "id": "57f3e511",
   "metadata": {},
   "outputs": [],
   "source": [
    "from qiskit_nature.second_q.algorithms import GroundStateEigensolver\n",
    "\n",
    "calc = GroundStateEigensolver(converter, vqe_solver)"
   ]
  },
  {
   "cell_type": "code",
   "execution_count": null,
   "id": "a7c4cb0b",
   "metadata": {},
   "outputs": [],
   "source": [
    "res = calc.solve(es_problem)\n",
    "print(res)"
   ]
  },
  {
   "cell_type": "code",
   "execution_count": null,
   "id": "89c60dd4",
   "metadata": {},
   "outputs": [],
   "source": [
    "calc = GroundStateEigensolver(converter, numpy_solver)\n",
    "res = calc.solve(es_problem)\n",
    "print(res)"
   ]
  },
  {
   "cell_type": "code",
   "execution_count": 11,
   "id": "3ef8d7c6",
   "metadata": {},
   "outputs": [],
   "source": [
    "#from qiskit_nature.second_q.drivers import GaussianForcesDriver\n",
    "#from qiskit_nature.second_q.algorithms import NumPyMinimumEigensolverFactory\n",
    "#from qiskit_nature.second_q.mappers import DirectMapper\n",
    "#from qiskit_nature.second_q.problems import HarmonicBasis\n",
    "\n",
    "#driver = GaussianForcesDriver(logfile=\"CO2_freq_B3LYP_631g.log\")\n",
    "#basis = HarmonicBasis([2, 2, 2, 2])\n",
    "#vib_problem = driver.run(basis=basis)\n",
    "#vib_problem.hamiltonian.truncation_order = 2\n",
    "\n",
    "#converter = QubitConverter(DirectMapper())\n",
    "\n",
    "#solver_without_filter = NumPyMinimumEigensolverFactory(use_default_filter_criterion=False)\n",
    "#solver_with_filter = NumPyMinimumEigensolverFactory(use_default_filter_criterion=True)\n",
    "\n",
    "#gsc_wo = GroundStateEigensolver(converter, solver_without_filter)\n",
    "#result_wo = gsc_wo.solve(vib_problem)\n",
    "\n",
    "#gsc_w = GroundStateEigensolver(converter, solver_with_filter)\n",
    "#result_w = gsc_w.solve(vib_problem)\n",
    "\n",
    "#print(result_wo)\n",
    "#print(\"\\n\\n\")\n",
    "#print(result_w)"
   ]
  },
  {
   "cell_type": "code",
   "execution_count": 1,
   "id": "4c3a0920",
   "metadata": {},
   "outputs": [],
   "source": [
    "from qiskit_ibm_runtime import QiskitRuntimeService\n",
    "\n",
    "# Save an IBM Quantum account.\n",
    "QiskitRuntimeService.save_account(channel=\"ibm_quantum\", token=\"4691f7f4a55abe9c196f7cd40767322b036aadfb021ba9c907bedf22e8390fa86ae5e0f6e9bcb1deca7769d10dde7c8c100dcfc6393a9a79630ebecfda9e59e4\", overwrite= True)\n",
    "\n"
   ]
  },
  {
   "cell_type": "code",
   "execution_count": null,
   "id": "2e378401",
   "metadata": {},
   "outputs": [],
   "source": []
  }
 ],
 "metadata": {
  "kernelspec": {
   "display_name": "Python 3 (ipykernel)",
   "language": "python",
   "name": "python3"
  },
  "language_info": {
   "codemirror_mode": {
    "name": "ipython",
    "version": 3
   },
   "file_extension": ".py",
   "mimetype": "text/x-python",
   "name": "python",
   "nbconvert_exporter": "python",
   "pygments_lexer": "ipython3",
   "version": "3.9.16"
  }
 },
 "nbformat": 4,
 "nbformat_minor": 5
}
